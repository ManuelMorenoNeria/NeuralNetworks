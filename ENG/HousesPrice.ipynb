{
  "nbformat": 4,
  "nbformat_minor": 0,
  "metadata": {
    "colab": {
      "provenance": [],
      "authorship_tag": "ABX9TyOKz9uyq0HRsLTq/48Lk5mG",
      "include_colab_link": true
    },
    "kernelspec": {
      "name": "python3",
      "display_name": "Python 3"
    },
    "language_info": {
      "name": "python"
    }
  },
  "cells": [
    {
      "cell_type": "markdown",
      "metadata": {
        "id": "view-in-github",
        "colab_type": "text"
      },
      "source": [
        "<a href=\"https://colab.research.google.com/github/ManuelMorenoNeria/NeuralNetworks/blob/main/HousesPrice.ipynb\" target=\"_parent\"><img src=\"https://colab.research.google.com/assets/colab-badge.svg\" alt=\"Open In Colab\"/></a>"
      ]
    },
    {
      "cell_type": "code",
      "execution_count": 1,
      "metadata": {
        "colab": {
          "base_uri": "https://localhost:8080/"
        },
        "id": "g7hzUsJE92vI",
        "outputId": "06b7a70d-4f5e-4312-8f07-0b72a4651589"
      },
      "outputs": [
        {
          "output_type": "stream",
          "name": "stdout",
          "text": [
            "1/1 [==============================] - 0s 155ms/step\n",
            "The price for a  200  m2 house should be around  237641.55  Euros\n"
          ]
        }
      ],
      "source": [
        "import tensorflow as tf\n",
        "import numpy as np\n",
        "\n",
        "# Input and output data\n",
        "size = np.array([100, 150, 200, 250, 300, 350, 400, 450, 500, 550, 600, 650, 700, 750, 800], dtype=float)\n",
        "prices = np.array([200000, 250000, 300000, 350000, 400000, 450000, 500000, 550000, 600000, 650000, 700000, 750000, 800000, 850000, 900000], dtype=float)\n",
        "\n",
        "# Create the model\n",
        "model = tf.keras.Sequential([\n",
        "    tf.keras.layers.Dense(units=64, input_shape=[1], activation='relu'), # 64-neuron layer with one-dimensional input (if the input were an image, for example, it would be two-dimensional)\n",
        "    tf.keras.layers.Dense(units=64, activation='relu'),\n",
        "    tf.keras.layers.Dense(units=1) # Output layer of the model\n",
        "])\n",
        "\n",
        "# Compile the model\n",
        "model.compile(optimizer=tf.keras.optimizers.Adam(learning_rate=0.01), loss='mean_squared_error')\n",
        "\n",
        "# Train the model\n",
        "model.fit(size, prices, epochs=500, verbose=0)\n",
        "\n",
        "# Test the model\n",
        "house_size = 200\n",
        "predicted_price = model.predict([house_size])[0][0]\n",
        "print(\"The price for a \", house_size,' m2 house should be around ', predicted_price,' Euros')\n"
      ]
    }
  ]
}
