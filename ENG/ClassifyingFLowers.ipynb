{
  "nbformat": 4,
  "nbformat_minor": 0,
  "metadata": {
    "colab": {
      "provenance": [],
      "authorship_tag": "ABX9TyM8Z5pACFMUr5qpOpbRreXv",
      "include_colab_link": true
    },
    "kernelspec": {
      "name": "python3",
      "display_name": "Python 3"
    },
    "language_info": {
      "name": "python"
    }
  },
  "cells": [
    {
      "cell_type": "markdown",
      "metadata": {
        "id": "view-in-github",
        "colab_type": "text"
      },
      "source": [
        "<a href=\"https://colab.research.google.com/github/ManuelMorenoNeria/NeuralNetworks/blob/main/ClassifyingFLowers.ipynb\" target=\"_parent\"><img src=\"https://colab.research.google.com/assets/colab-badge.svg\" alt=\"Open In Colab\"/></a>"
      ]
    },
    {
      "cell_type": "code",
      "execution_count": null,
      "metadata": {
        "colab": {
          "base_uri": "https://localhost:8080/"
        },
        "id": "8xarGnInbsBv",
        "outputId": "c79f5d46-04ab-4455-b81d-419d891b7ec3"
      },
      "outputs": [
        {
          "output_type": "stream",
          "name": "stdout",
          "text": [
            "2/2 [==============================] - 0s 18ms/step - loss: 0.1144 - accuracy: 0.9737\n",
            "The model has an accuracy of:  97.36841917037964 %\n"
          ]
        }
      ],
      "source": [
        "import tensorflow as tf                               # Import the TensorFlow library and the dataset we are going to use (load_iris)\n",
        "from sklearn.datasets import load_iris\n",
        "from sklearn.model_selection import train_test_split  # We need to import the train_test_split function to split the data in two lists, one for training the model and the other for evaluating.\n",
        "iris = load_iris()\n",
        "x = iris.data\n",
        "y = iris.target                                       # Place the data into the corresponding variables\n",
        "x_train, x_test, y_train, y_test = train_test_split(x, y)\n",
        "\n",
        "\n",
        "model = tf.keras.Sequential([                                         # Create the sequential neural network model\n",
        "    tf.keras.layers.Dense(64, activation='relu', input_shape=(4,)),\n",
        "    tf.keras.layers.Dense(64, activation='relu'),\n",
        "    tf.keras.layers.Dense(3, activation='softmax')                    # 3 because there are 3 types of flowers\n",
        "])\n",
        "\n",
        "model.compile(optimizer='adam',                        # Compile the model\n",
        "              loss='sparse_categorical_crossentropy',  # Used for classify multi-class problems. In this case, types of flowers\n",
        "              metrics=['accuracy'])                    # Accuracy metric to evaluate the model's performance\n",
        "\n",
        "model.fit(x_train, y_train, epochs=50, verbose=0)      # Train the model\n",
        "\n",
        "test_loss, test_acc = model.evaluate(x_test, y_test)\n",
        "print('The model has an accuracy of: ', test_acc*100, '%')  # Evaluate the model\n"
      ]
    }
  ]
}
