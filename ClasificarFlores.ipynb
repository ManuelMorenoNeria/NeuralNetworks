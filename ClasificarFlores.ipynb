{
  "nbformat": 4,
  "nbformat_minor": 0,
  "metadata": {
    "colab": {
      "provenance": [],
      "authorship_tag": "ABX9TyN7ya00V0BnAxEpGXwqA0Vf",
      "include_colab_link": true
    },
    "kernelspec": {
      "name": "python3",
      "display_name": "Python 3"
    },
    "language_info": {
      "name": "python"
    }
  },
  "cells": [
    {
      "cell_type": "markdown",
      "metadata": {
        "id": "view-in-github",
        "colab_type": "text"
      },
      "source": [
        "<a href=\"https://colab.research.google.com/github/ManuelMorenoNeria/NeuralNetworks/blob/main/ClasificarFlores.ipynb\" target=\"_parent\"><img src=\"https://colab.research.google.com/assets/colab-badge.svg\" alt=\"Open In Colab\"/></a>"
      ]
    },
    {
      "cell_type": "code",
      "execution_count": null,
      "metadata": {
        "colab": {
          "base_uri": "https://localhost:8080/"
        },
        "id": "pzATRug2S1MO",
        "outputId": "ef2c94bb-56e8-4e49-fcd0-e2a4fe3e0487"
      },
      "outputs": [
        {
          "output_type": "stream",
          "name": "stdout",
          "text": [
            "2/2 [==============================] - 0s 9ms/step - loss: 0.1612 - accuracy: 0.9474\n",
            "El modelo tiene una precision del:  94.73684430122375 %\n"
          ]
        }
      ],
      "source": [
        "import tensorflow as tf\n",
        "from sklearn.datasets import load_iris                #Importamos la libreria de tensorFlow y el dataset que vamos a usar (load_iris)\n",
        "from sklearn.model_selection import train_test_split  #Necesitamos importar la funcion train_test_split para dividir los datos en dos listas una para entrenar el modelo y otra para evaluar su rendimiento.\n",
        "iris= load_iris()\n",
        "x= iris.data\n",
        "y= iris.target                                        #Colocamos los datos en las variables correspondientes\n",
        "x_train, x_test, y_train, y_test = train_test_split(x, y)\n",
        "\n",
        "#Creamos el modelo secuencial de red neuronal\n",
        "model= tf.keras.Sequential([\n",
        "    tf.keras.layers.Dense(64,activation='relu', input_shape=(4,)),\n",
        "    tf.keras.layers.Dense(64,activation='relu'),\n",
        "    tf.keras.layers.Dense(3,activation='softmax')    #3 porque hay 3 clases de flores\n",
        "])\n",
        "\n",
        "#Compilamos el modelo\n",
        "model.compile(optimizer='adam',\n",
        "              loss='sparse_categorical_crossentropy',# Se utiliza para problemas de clasificación con múltiples clases. En este caso los tipos de flores\n",
        "              metrics=['accuracy'])                  # Métrica de precisión para evaluar el rendimiento del modelo\n",
        "\n",
        "# Entrenar el modelo\n",
        "model.fit(x_train, y_train, epochs=50, verbose=0)\n",
        "\n",
        "# Evaluar el modelo\n",
        "test_loss, test_acc = model.evaluate(x_test, y_test)\n",
        "print('El modelo tiene una precision del: ', test_acc*100, '%')\n",
        "\n"
      ]
    }
  ]
}