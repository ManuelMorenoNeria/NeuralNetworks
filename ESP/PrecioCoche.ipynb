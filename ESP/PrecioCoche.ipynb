{
  "nbformat": 4,
  "nbformat_minor": 0,
  "metadata": {
    "colab": {
      "provenance": [],
      "authorship_tag": "ABX9TyPuYCoHg5t5jhzUciSj/oON",
      "include_colab_link": true
    },
    "kernelspec": {
      "name": "python3",
      "display_name": "Python 3"
    },
    "language_info": {
      "name": "python"
    }
  },
  "cells": [
    {
      "cell_type": "markdown",
      "metadata": {
        "id": "view-in-github",
        "colab_type": "text"
      },
      "source": [
        "<a href=\"https://colab.research.google.com/github/ManuelMorenoNeria/NeuralNetworks/blob/main/PrecioCoche.ipynb\" target=\"_parent\"><img src=\"https://colab.research.google.com/assets/colab-badge.svg\" alt=\"Open In Colab\"/></a>"
      ]
    },
    {
      "cell_type": "code",
      "execution_count": 7,
      "metadata": {
        "colab": {
          "base_uri": "https://localhost:8080/"
        },
        "id": "7o4QFeumBdFr",
        "outputId": "865480f3-2bef-4b60-973f-2780d3c5b8f4"
      },
      "outputs": [
        {
          "output_type": "stream",
          "name": "stdout",
          "text": [
            "1/1 [==============================] - 0s 71ms/step\n",
            "Precio estimado de venta para un coche de  15000  Euros  y de  65000  Kilometros es de 11662.324\n"
          ]
        }
      ],
      "source": [
        "import tensorflow as tf\n",
        "import numpy as np\n",
        "\n",
        "# Datos de entrada (precio inicial y kilómetros) y salida (precio de venta)\n",
        "PrecioNuevo = np.array([10000, 12000, 14000, 16000, 18000, 20000, 22000, 24000, 26000, 28000])\n",
        "kilometros = np.array([50000, 60000, 70000, 80000, 90000, 100000, 110000, 120000, 130000, 140000])\n",
        "PrecioVenta = np.array([8000, 10000, 12000, 14000, 16000, 18000, 20000, 22000, 24000, 26000])\n",
        "\n",
        "# Dividimos los datos en conjuntos de entrenamiento y prueba\n",
        "coche = np.column_stack((PrecioNuevo, kilometros))\n",
        "PrecioEstimado = PrecioVenta\n",
        "\n",
        "# Creamos el modelo de red neuronal\n",
        "model = tf.keras.Sequential([\n",
        "    tf.keras.layers.Dense(units=64, activation='relu', input_shape=(2,)),  # Capa oculta con 64 neuronas y función de activación Relu\n",
        "    tf.keras.layers.Dense(units=64, activation='relu'),  # Segunda capa oculta con 64 neuronas y función de activación Relu\n",
        "    tf.keras.layers.Dense(units=1)  # Capa de salida con una neurona (el output)\n",
        "])\n",
        "\n",
        "# Compilar el modelo con el optimizador Adam y la funcion de perdida de error mean_squared_error\n",
        "model.compile(optimizer=tf.keras.optimizers.Adam(learning_rate=0.01), loss='mean_squared_error')\n",
        "\n",
        "# Entrenar el modelo 500 veces sin que me este mostrando el proceso constantemente por pantalla\n",
        "model.fit(coche, PrecioEstimado, epochs=500, verbose=0)\n",
        "\n",
        "# Le damos valores a las variables y probamos le modelo\n",
        "Concesionario = 15000\n",
        "kilometrosUsado = 65000\n",
        "\n",
        "resultado = model.predict([[Concesionario, kilometrosUsado]])\n",
        "print(\"Precio estimado de venta para un coche de \",Concesionario,' Euros  y de ',kilometrosUsado,' Kilometros es de', resultado[0][0])\n",
        "\n"
      ]
    }
  ]
}
