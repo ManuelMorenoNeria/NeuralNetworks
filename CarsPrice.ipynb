{
  "nbformat": 4,
  "nbformat_minor": 0,
  "metadata": {
    "colab": {
      "provenance": [],
      "authorship_tag": "ABX9TyPZBgFunwW5a10pO3WqNb6P",
      "include_colab_link": true
    },
    "kernelspec": {
      "name": "python3",
      "display_name": "Python 3"
    },
    "language_info": {
      "name": "python"
    }
  },
  "cells": [
    {
      "cell_type": "markdown",
      "metadata": {
        "id": "view-in-github",
        "colab_type": "text"
      },
      "source": [
        "<a href=\"https://colab.research.google.com/github/ManuelMorenoNeria/NeuralNetworks/blob/main/CarsPrice.ipynb\" target=\"_parent\"><img src=\"https://colab.research.google.com/assets/colab-badge.svg\" alt=\"Open In Colab\"/></a>"
      ]
    },
    {
      "cell_type": "code",
      "execution_count": 1,
      "metadata": {
        "colab": {
          "base_uri": "https://localhost:8080/"
        },
        "id": "zoFK3RUvEPB6",
        "outputId": "bb869d78-e965-46ee-daa5-247d0cd79b5e"
      },
      "outputs": [
        {
          "output_type": "stream",
          "name": "stdout",
          "text": [
            "1/1 [==============================] - 0s 267ms/step\n",
            "Estimated selling price for a car of: 11789.614\n"
          ]
        }
      ],
      "source": [
        "import tensorflow as tf\n",
        "import numpy as np\n",
        "\n",
        "# Input data (new car price and kilometers) and output (selling price)\n",
        "NewPrice = np.array([10000, 12000, 14000, 16000, 18000, 20000, 22000, 24000, 26000, 28000])\n",
        "kilometers = np.array([50000, 60000, 70000, 80000, 90000, 100000, 110000, 120000, 130000, 140000])\n",
        "SalePrice = np.array([8000, 10000, 12000, 14000, 16000, 18000, 20000, 22000, 24000, 26000])\n",
        "\n",
        "# Splitting data into training and testing sets\n",
        "car = np.column_stack((NewPrice, kilometers))\n",
        "EstimatedPrice = SalePrice\n",
        "\n",
        "# Create the neural network model\n",
        "model = tf.keras.Sequential([\n",
        "    tf.keras.layers.Dense(units=64, activation='relu', input_shape=(2,)),  # Hidden layer with 64 neurons and ReLU activation function\n",
        "    tf.keras.layers.Dense(units=64, activation='relu'),  # Second hidden layer with 64 neurons and ReLU activation function\n",
        "    tf.keras.layers.Dense(units=1)  # Output layer with one neuron (the output)\n",
        "])\n",
        "\n",
        "# Compile the model with Adam optimizer and mean_squared_error_loss function\n",
        "model.compile(optimizer=tf.keras.optimizers.Adam(learning_rate=0.01), loss='mean_squared_error')\n",
        "\n",
        "# Train the model for 500 epochs without displaying the process constantly on the screen\n",
        "model.fit(car, EstimatedPrice, epochs=500, verbose=0)\n",
        "\n",
        "# Assign values to the variables and test the model\n",
        "DealerPrice = 15000\n",
        "usedKilometers = 65000\n",
        "\n",
        "predicted_selling_price = model.predict([[DealerPrice, usedKilometers]])\n",
        "print(\"Estimated selling price for a car of:\", predicted_selling_price[0][0])\n"
      ]
    }
  ]
}