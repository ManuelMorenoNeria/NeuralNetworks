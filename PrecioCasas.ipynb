{
  "nbformat": 4,
  "nbformat_minor": 0,
  "metadata": {
    "colab": {
      "provenance": [],
      "authorship_tag": "ABX9TyNfs7Dv0tYUuoQ2yPaQTGKQ",
      "include_colab_link": true
    },
    "kernelspec": {
      "name": "python3",
      "display_name": "Python 3"
    },
    "language_info": {
      "name": "python"
    }
  },
  "cells": [
    {
      "cell_type": "markdown",
      "metadata": {
        "id": "view-in-github",
        "colab_type": "text"
      },
      "source": [
        "<a href=\"https://colab.research.google.com/github/ManuelMorenoNeria/NeuralNetworks/blob/main/PrecioCasas.ipynb\" target=\"_parent\"><img src=\"https://colab.research.google.com/assets/colab-badge.svg\" alt=\"Open In Colab\"/></a>"
      ]
    },
    {
      "cell_type": "code",
      "execution_count": 15,
      "metadata": {
        "id": "zWkkv5Kpb19C",
        "colab": {
          "base_uri": "https://localhost:8080/"
        },
        "outputId": "af3c4f13-6bba-4682-9c0d-f4cef0737700"
      },
      "outputs": [
        {
          "output_type": "stream",
          "name": "stdout",
          "text": [
            "1/1 [==============================] - 0s 82ms/step\n",
            "El precio para una casa de  180  m2 debiria estar por los  214172.48  Euros\n"
          ]
        }
      ],
      "source": [
        "import tensorflow as tf\n",
        "import numpy as np\n",
        "\n",
        "# Datos de entrada y salida\n",
        "tamano = np.array([100, 150, 200, 250, 300, 350, 400, 450, 500, 550, 600, 650, 700, 750, 800], dtype=float)\n",
        "precios = np.array([200000, 250000, 300000, 350000, 400000, 450000, 500000, 550000, 600000, 650000, 700000, 750000, 800000, 850000, 900000], dtype=float)\n",
        "\n",
        "# Creamos el modelo\n",
        "model = tf.keras.Sequential([\n",
        "    tf.keras.layers.Dense(units=64, input_shape=[1], activation='relu'), # capa de 64 neuronas con entrada unidimensional (si la entrad fuera una imagen por ejemplo seria bidimensional)\n",
        "    tf.keras.layers.Dense(units=64, activation='relu'),\n",
        "    tf.keras.layers.Dense(units=1) #capa de salida del modelo\n",
        "])\n",
        "\n",
        "# Compilamos el modelo\n",
        "model.compile(optimizer=tf.keras.optimizers.Adam(learning_rate=0.01), loss='mean_squared_error')\n",
        "\n",
        "# Entrenamos el modelo\n",
        "model.fit(tamano, precios, epochs=500, verbose=0)\n",
        "\n",
        "# Probamos el modelo\n",
        "house_size = 180\n",
        "predicted_price = model.predict([house_size])[0][0]\n",
        "print(\"El precio para una casa de \",house_size,' m2 debiria estar por los ' ,predicted_price,' Euros')\n"
      ]
    }
  ]
}